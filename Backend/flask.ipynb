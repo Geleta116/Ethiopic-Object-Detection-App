{
 "cells": [
  {
   "cell_type": "code",
   "execution_count": 2,
   "metadata": {},
   "outputs": [
    {
     "name": "stdout",
     "output_type": "stream",
     "text": [
      " * Serving Flask app '__main__'\n",
      " * Debug mode: off\n"
     ]
    },
    {
     "name": "stderr",
     "output_type": "stream",
     "text": [
      "WARNING: This is a development server. Do not use it in a production deployment. Use a production WSGI server instead.\n",
      " * Running on all addresses (0.0.0.0)\n",
      " * Running on http://127.0.0.1:5000\n",
      " * Running on http://192.168.133.126:5000\n",
      "Press CTRL+C to quit\n"
     ]
    },
    {
     "name": "stdout",
     "output_type": "stream",
     "text": [
      "Received a request\n",
      "\n",
      "image 1/1 /home/geleta/Desktop/Ethiopic-Object-Detection-App/Backend/store/scaled_ac3b724e-4c07-4f34-bbd1-2e39e07f7d603089627478048943687.jpg_rotated_360.jpg: 640x288 1 Jebena, 430.4ms\n",
      "Speed: 38.8ms preprocess, 430.4ms inference, 29.8ms postprocess per image at shape (1, 3, 640, 288)\n"
     ]
    },
    {
     "name": "stderr",
     "output_type": "stream",
     "text": [
      "192.168.133.113 - - [28/Jan/2024 10:19:58] \"POST / HTTP/1.1\" 200 -\n",
      "192.168.133.113 - - [28/Jan/2024 10:19:58] \"GET /get_image/scaled_ac3b724e-4c07-4f34-bbd1-2e39e07f7d603089627478048943687.jpg_rotated_360.jpg HTTP/1.1\" 200 -\n"
     ]
    }
   ],
   "source": [
    "import os\n",
    "from flask import Flask, flash, jsonify, redirect, request, send_from_directory\n",
    "from werkzeug.utils import secure_filename\n",
    "from ultralytics import YOLO\n",
    "from PIL import Image, ImageDraw\n",
    "from flask_cors import CORS\n",
    "import time\n",
    "\n",
    "UPLOAD_FOLDER = './store'\n",
    "ALLOWED_EXTENSIONS = {'txt', 'pdf', 'png', 'jpg', 'jpeg', 'gif'}\n",
    "\n",
    "app = Flask(__name__)\n",
    "\n",
    "CORS(app, resources={r\"/*\": {\"origins\": \"*\"}})\n",
    "\n",
    "app.config['UPLOAD_FOLDER'] = UPLOAD_FOLDER\n",
    "\n",
    "model = YOLO('./best.pt')\n",
    "\n",
    "def allowed_file(filename):\n",
    "    return '.' in filename and \\\n",
    "           filename.rsplit('.', 1)[1].lower() in ALLOWED_EXTENSIONS\n",
    "\n",
    "@app.route('/', methods=['GET', 'POST'])\n",
    "def upload_file():\n",
    "    print('Received a request')\n",
    "    if request.method == 'POST':\n",
    "       \n",
    "        if 'file' not in request.files:\n",
    "            flash('No file part')\n",
    "            return redirect(request.url)\n",
    "        file = request.files['file']\n",
    "       \n",
    "        if file.filename == '':\n",
    "            flash('No selected file')\n",
    "            return redirect(request.url)\n",
    "        \n",
    "        if file and allowed_file(file.filename):\n",
    "            filename = secure_filename(file.filename)\n",
    "            file.save(os.path.join(app.config['UPLOAD_FOLDER'], filename))\n",
    "            results = model.predict(os.path.join(app.config['UPLOAD_FOLDER'], filename), conf = 0.2, save_dir = \"./output/\")\n",
    "            names = model.names\n",
    "            store = set()\n",
    "            for r in results[0]:\n",
    "                for c in r.boxes.cls:\n",
    "                    store.add(names[int(c)])\n",
    "            names_list = list(store)\n",
    "            \n",
    "            \n",
    "            image_path = os.path.join(app.config['UPLOAD_FOLDER'], filename)\n",
    "            image = Image.open(image_path)\n",
    "            classes = {0:\"Sini\", 1:\"Jebena\"}\n",
    "            # Draw bounding boxes and labels of detections\n",
    "            draw = ImageDraw.Draw(image)\n",
    "\n",
    "            for box_info in results[0].boxes:\n",
    "                \n",
    "                x_min, y_min, x_max, y_max = box_info.xyxy.squeeze().tolist()  \n",
    "                class_id = int(box_info.cls.item())  \n",
    "                confidence = float(box_info.conf.item()) \n",
    "               \n",
    "                box_color = 'red' if classes[class_id] == 'Jebena' else 'green'\n",
    "                label = f'{classes[class_id]}'\n",
    "\n",
    "               \n",
    "                draw.rectangle([(x_min, y_min), (x_max, y_max)], outline=box_color, width = 6)\n",
    "                # font =  ImageFont.truetype(\"arial.ttf\", 15)\n",
    "                draw.text((x_min, y_min), label, fill=box_color, )\n",
    "\n",
    "            \n",
    "            image.show()  \n",
    "            image.save(os.path.join(\"/home/geleta/Desktop/PAI_ASSIGNMENT/pai_project/assets\", filename))\n",
    "            \n",
    "            # time.sleep(5)\n",
    "            return jsonify({'names': names_list, 'image_path': filename})\n",
    "\n",
    "    return '''\n",
    "    <!doctype html>\n",
    "    <title>Upload new File</title>\n",
    "    <h1>Upload new File</h1>\n",
    "    <form method=post enctype=multipart/form-data>\n",
    "      <input type=file name=file>\n",
    "      <input type=submit value=Upload>\n",
    "    </form>\n",
    "    '''\n",
    "\n",
    "@app.route('/get_image/<filename>', methods=['GET'])\n",
    "def get_image(filename):\n",
    "    return send_from_directory('/home/geleta/Desktop/PAI_ASSIGNMENT/pai_project/assets', filename)\n",
    "\n",
    "\n",
    "if __name__ == '__main__':\n",
    "    app.run(host='0.0.0.0', port=5000)"
   ]
  }
 ],
 "metadata": {
  "kernelspec": {
   "display_name": "Python 3",
   "language": "python",
   "name": "python3"
  },
  "language_info": {
   "codemirror_mode": {
    "name": "ipython",
    "version": 3
   },
   "file_extension": ".py",
   "mimetype": "text/x-python",
   "name": "python",
   "nbconvert_exporter": "python",
   "pygments_lexer": "ipython3",
   "version": "3.10.12"
  }
 },
 "nbformat": 4,
 "nbformat_minor": 2
}
