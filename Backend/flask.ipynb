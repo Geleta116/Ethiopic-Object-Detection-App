{
 "cells": [
  {
   "cell_type": "code",
   "execution_count": 4,
   "metadata": {},
   "outputs": [
    {
     "name": "stdout",
     "output_type": "stream",
     "text": [
      " * Serving Flask app '__main__'\n",
      " * Debug mode: off\n"
     ]
    },
    {
     "name": "stderr",
     "output_type": "stream",
     "text": [
      "WARNING: This is a development server. Do not use it in a production deployment. Use a production WSGI server instead.\n",
      " * Running on all addresses (0.0.0.0)\n",
      " * Running on http://127.0.0.1:5000\n",
      " * Running on http://192.168.212.126:5000\n",
      "Press CTRL+C to quit\n"
     ]
    },
    {
     "name": "stdout",
     "output_type": "stream",
     "text": [
      "Received a request\n",
      "\n",
      "image 1/1 /home/geleta/Desktop/Ethiopic-Object-Detection-App/Backend/store/scaled_1000001001.jpg_rotated_360.jpg: 448x640 1 Jebena, 241.9ms\n",
      "Speed: 7.0ms preprocess, 241.9ms inference, 1.6ms postprocess per image at shape (1, 3, 448, 640)\n"
     ]
    },
    {
     "name": "stderr",
     "output_type": "stream",
     "text": [
      "192.168.212.157 - - [31/Jan/2024 21:20:16] \"POST / HTTP/1.1\" 200 -\n",
      "192.168.212.157 - - [31/Jan/2024 21:20:16] \"GET /get_image/scaled_1000001001.jpg_rotated_360.jpg HTTP/1.1\" 200 -\n"
     ]
    },
    {
     "name": "stdout",
     "output_type": "stream",
     "text": [
      "Received a request\n",
      "\n",
      "image 1/1 /home/geleta/Desktop/Ethiopic-Object-Detection-App/Backend/store/scaled_1000001000.jpg_rotated_360.jpg: 448x640 1 Sini, 7 Jebenas, 171.1ms\n",
      "Speed: 4.9ms preprocess, 171.1ms inference, 1.4ms postprocess per image at shape (1, 3, 448, 640)\n"
     ]
    },
    {
     "name": "stderr",
     "output_type": "stream",
     "text": [
      "192.168.212.157 - - [31/Jan/2024 21:20:24] \"POST / HTTP/1.1\" 200 -\n",
      "192.168.212.157 - - [31/Jan/2024 21:20:24] \"GET /get_image/scaled_1000001000.jpg_rotated_360.jpg HTTP/1.1\" 200 -\n"
     ]
    },
    {
     "name": "stdout",
     "output_type": "stream",
     "text": [
      "Received a request\n",
      "\n",
      "image 1/1 /home/geleta/Desktop/Ethiopic-Object-Detection-App/Backend/store/scaled_1000000999.jpg_rotated_360.jpg: 640x480 1 Sini, 1 Jebena, 252.1ms\n",
      "Speed: 11.7ms preprocess, 252.1ms inference, 1.4ms postprocess per image at shape (1, 3, 640, 480)\n"
     ]
    },
    {
     "name": "stderr",
     "output_type": "stream",
     "text": [
      "192.168.212.157 - - [31/Jan/2024 21:20:32] \"POST / HTTP/1.1\" 200 -\n",
      "192.168.212.157 - - [31/Jan/2024 21:20:32] \"GET /get_image/scaled_1000000999.jpg_rotated_360.jpg HTTP/1.1\" 200 -\n"
     ]
    },
    {
     "name": "stdout",
     "output_type": "stream",
     "text": [
      "Received a request\n",
      "\n",
      "image 1/1 /home/geleta/Desktop/Ethiopic-Object-Detection-App/Backend/store/scaled_1000000966.jpg_rotated_360.jpg: 640x640 (no detections), 363.8ms\n",
      "Speed: 11.1ms preprocess, 363.8ms inference, 0.9ms postprocess per image at shape (1, 3, 640, 640)\n"
     ]
    },
    {
     "name": "stderr",
     "output_type": "stream",
     "text": [
      "192.168.212.157 - - [31/Jan/2024 21:20:40] \"POST / HTTP/1.1\" 200 -\n"
     ]
    },
    {
     "name": "stdout",
     "output_type": "stream",
     "text": [
      "Received a request\n",
      "\n",
      "image 1/1 /home/geleta/Desktop/Ethiopic-Object-Detection-App/Backend/store/scaled_1000000997.jpg_rotated_360.jpg: 640x512 2 Sinis, 2 Jebenas, 329.4ms\n",
      "Speed: 8.7ms preprocess, 329.4ms inference, 2.2ms postprocess per image at shape (1, 3, 640, 512)\n"
     ]
    },
    {
     "name": "stderr",
     "output_type": "stream",
     "text": [
      "192.168.212.157 - - [31/Jan/2024 21:22:06] \"POST / HTTP/1.1\" 200 -\n",
      "192.168.212.157 - - [31/Jan/2024 21:22:06] \"GET /get_image/scaled_1000000997.jpg_rotated_360.jpg HTTP/1.1\" 200 -\n"
     ]
    },
    {
     "name": "stdout",
     "output_type": "stream",
     "text": [
      "Received a request\n",
      "\n",
      "image 1/1 /home/geleta/Desktop/Ethiopic-Object-Detection-App/Backend/store/scaled_27c6685d-4973-4b25-a111-4aede657a7c58787752812582911992.jpg_rotated_360.jpg: 640x288 1 Jebena, 83.7ms\n",
      "Speed: 2.6ms preprocess, 83.7ms inference, 1.0ms postprocess per image at shape (1, 3, 640, 288)\n"
     ]
    },
    {
     "name": "stderr",
     "output_type": "stream",
     "text": [
      "192.168.212.157 - - [31/Jan/2024 21:22:43] \"POST / HTTP/1.1\" 200 -\n",
      "192.168.212.157 - - [31/Jan/2024 21:22:43] \"GET /get_image/scaled_27c6685d-4973-4b25-a111-4aede657a7c58787752812582911992.jpg_rotated_360.jpg HTTP/1.1\" 200 -\n"
     ]
    },
    {
     "name": "stdout",
     "output_type": "stream",
     "text": [
      "Received a request\n",
      "\n",
      "image 1/1 /home/geleta/Desktop/Ethiopic-Object-Detection-App/Backend/store/scaled_4f4c1253-74a9-4002-9ae4-bad1520256371096702921286870868.jpg_rotated_360.jpg: 640x288 2 Jebenas, 113.9ms\n",
      "Speed: 2.3ms preprocess, 113.9ms inference, 1.3ms postprocess per image at shape (1, 3, 640, 288)\n"
     ]
    },
    {
     "name": "stderr",
     "output_type": "stream",
     "text": [
      "192.168.212.157 - - [31/Jan/2024 21:23:27] \"POST / HTTP/1.1\" 200 -\n",
      "192.168.212.157 - - [31/Jan/2024 21:23:27] \"GET /get_image/scaled_4f4c1253-74a9-4002-9ae4-bad1520256371096702921286870868.jpg_rotated_360.jpg HTTP/1.1\" 200 -\n"
     ]
    },
    {
     "name": "stdout",
     "output_type": "stream",
     "text": [
      "Received a request\n",
      "\n",
      "image 1/1 /home/geleta/Desktop/Ethiopic-Object-Detection-App/Backend/store/scaled_43beee02-4a52-40cc-af2a-78399c7e1a915224398315926664069.jpg_rotated_360.jpg: 640x288 3 Sinis, 1 Jebena, 80.8ms\n",
      "Speed: 2.3ms preprocess, 80.8ms inference, 1.3ms postprocess per image at shape (1, 3, 640, 288)\n"
     ]
    },
    {
     "name": "stderr",
     "output_type": "stream",
     "text": [
      "192.168.212.157 - - [31/Jan/2024 21:23:48] \"POST / HTTP/1.1\" 200 -\n",
      "192.168.212.157 - - [31/Jan/2024 21:23:48] \"GET /get_image/scaled_43beee02-4a52-40cc-af2a-78399c7e1a915224398315926664069.jpg_rotated_360.jpg HTTP/1.1\" 200 -\n"
     ]
    },
    {
     "name": "stdout",
     "output_type": "stream",
     "text": [
      "Received a request\n",
      "\n",
      "image 1/1 /home/geleta/Desktop/Ethiopic-Object-Detection-App/Backend/store/scaled_ec625568-fc5a-4069-ba27-d52348e8311d2629893411155612473.jpg_rotated_360.jpg: 640x288 (no detections), 78.8ms\n",
      "Speed: 2.3ms preprocess, 78.8ms inference, 0.6ms postprocess per image at shape (1, 3, 640, 288)\n"
     ]
    },
    {
     "name": "stderr",
     "output_type": "stream",
     "text": [
      "192.168.212.157 - - [31/Jan/2024 21:24:17] \"POST / HTTP/1.1\" 200 -\n"
     ]
    },
    {
     "name": "stdout",
     "output_type": "stream",
     "text": [
      "Received a request\n",
      "\n",
      "image 1/1 /home/geleta/Desktop/Ethiopic-Object-Detection-App/Backend/store/scaled_fe4a4f87-f48d-47dd-b473-854b1cbe79753411911220015691476.jpg_rotated_360.jpg: 640x288 1 Sini, 91.8ms\n",
      "Speed: 2.3ms preprocess, 91.8ms inference, 1.0ms postprocess per image at shape (1, 3, 640, 288)\n"
     ]
    },
    {
     "name": "stderr",
     "output_type": "stream",
     "text": [
      "192.168.212.157 - - [31/Jan/2024 21:24:33] \"POST / HTTP/1.1\" 200 -\n",
      "192.168.212.157 - - [31/Jan/2024 21:24:34] \"GET /get_image/scaled_fe4a4f87-f48d-47dd-b473-854b1cbe79753411911220015691476.jpg_rotated_360.jpg HTTP/1.1\" 200 -\n"
     ]
    },
    {
     "name": "stdout",
     "output_type": "stream",
     "text": [
      "Received a request\n",
      "\n",
      "image 1/1 /home/geleta/Desktop/Ethiopic-Object-Detection-App/Backend/store/scaled_c293cbf5-1e41-4615-be96-33f38342dfe41826651652236339726.jpg_rotated_360.jpg: 288x640 1 Sini, 1 Jebena, 90.3ms\n",
      "Speed: 2.2ms preprocess, 90.3ms inference, 2.1ms postprocess per image at shape (1, 3, 288, 640)\n"
     ]
    },
    {
     "name": "stderr",
     "output_type": "stream",
     "text": [
      "192.168.212.157 - - [31/Jan/2024 21:24:59] \"POST / HTTP/1.1\" 200 -\n",
      "192.168.212.157 - - [31/Jan/2024 21:24:59] \"GET /get_image/scaled_c293cbf5-1e41-4615-be96-33f38342dfe41826651652236339726.jpg_rotated_360.jpg HTTP/1.1\" 200 -\n"
     ]
    },
    {
     "name": "stdout",
     "output_type": "stream",
     "text": [
      "Received a request\n",
      "\n",
      "image 1/1 /home/geleta/Desktop/Ethiopic-Object-Detection-App/Backend/store/scaled_d622bc91-9c21-4fa6-8e28-25bc0ea5f7751607038023041872590.jpg_rotated_360.jpg: 288x640 3 Jebenas, 77.5ms\n",
      "Speed: 2.4ms preprocess, 77.5ms inference, 0.9ms postprocess per image at shape (1, 3, 288, 640)\n"
     ]
    },
    {
     "name": "stderr",
     "output_type": "stream",
     "text": [
      "192.168.212.157 - - [31/Jan/2024 21:25:19] \"POST / HTTP/1.1\" 200 -\n",
      "192.168.212.157 - - [31/Jan/2024 21:25:19] \"GET /get_image/scaled_d622bc91-9c21-4fa6-8e28-25bc0ea5f7751607038023041872590.jpg_rotated_360.jpg HTTP/1.1\" 200 -\n"
     ]
    },
    {
     "name": "stdout",
     "output_type": "stream",
     "text": [
      "Received a request\n",
      "\n",
      "image 1/1 /home/geleta/Desktop/Ethiopic-Object-Detection-App/Backend/store/scaled_f7ca302f-c503-4798-acf3-9c7c4fc090a25475034607360072700.jpg_rotated_360.jpg: 288x640 1 Jebena, 84.4ms\n",
      "Speed: 2.2ms preprocess, 84.4ms inference, 1.0ms postprocess per image at shape (1, 3, 288, 640)\n"
     ]
    },
    {
     "name": "stderr",
     "output_type": "stream",
     "text": [
      "192.168.212.157 - - [31/Jan/2024 21:25:44] \"POST / HTTP/1.1\" 200 -\n",
      "192.168.212.157 - - [31/Jan/2024 21:25:44] \"GET /get_image/scaled_f7ca302f-c503-4798-acf3-9c7c4fc090a25475034607360072700.jpg_rotated_360.jpg HTTP/1.1\" 200 -\n"
     ]
    }
   ],
   "source": [
    "from imp import load_module\n",
    "import os\n",
    "from flask import Flask, flash, jsonify, redirect, request, send_from_directory\n",
    "from werkzeug.utils import secure_filename\n",
    "from ultralytics import YOLO\n",
    "from PIL import Image, ImageDraw\n",
    "from flask_cors import CORS\n",
    "import time\n",
    "from flask import Flask, request, jsonify\n",
    "import torch\n",
    "from torchvision import transforms\n",
    "from PIL import Image\n",
    "\n",
    "\n",
    "\n",
    "\n",
    "UPLOAD_FOLDER = './store'\n",
    "ALLOWED_EXTENSIONS = {'txt', 'pdf', 'png', 'jpg', 'jpeg', 'gif'}\n",
    "\n",
    "app = Flask(__name__)\n",
    "\n",
    "CORS(app, resources={r\"/*\": {\"origins\": \"*\"}})\n",
    "\n",
    "app.config['UPLOAD_FOLDER'] = UPLOAD_FOLDER\n",
    "\n",
    "model = YOLO('./best.pt')\n",
    "\n",
    "def allowed_file(filename):\n",
    "    return '.' in filename and \\\n",
    "           filename.rsplit('.', 1)[1].lower() in ALLOWED_EXTENSIONS\n",
    "\n",
    "@app.route('/', methods=['GET', 'POST'])\n",
    "def upload_file():\n",
    "    print('Received a request')\n",
    "    if request.method == 'POST':\n",
    "       \n",
    "        if 'file' not in request.files:\n",
    "            flash('No file part')\n",
    "            return redirect(request.url)\n",
    "        file = request.files['file']\n",
    "       \n",
    "        if file.filename == '':\n",
    "            flash('No selected file')\n",
    "            return redirect(request.url)\n",
    "        \n",
    "        if file and allowed_file(file.filename):\n",
    "            filename = secure_filename(file.filename)\n",
    "            file.save(os.path.join(app.config['UPLOAD_FOLDER'], filename))\n",
    "            results = model.predict(os.path.join(app.config['UPLOAD_FOLDER'], filename), conf = 0.4, save_dir = \"./output/\")\n",
    "            names = model.names\n",
    "            store = set()\n",
    "            for r in results[0]:\n",
    "                for c in r.boxes.cls:\n",
    "                    store.add(names[int(c)])\n",
    "            names_list = list(store)\n",
    "            \n",
    "            \n",
    "            image_path = os.path.join(app.config['UPLOAD_FOLDER'], filename)\n",
    "            image = Image.open(image_path)\n",
    "            classes = {0:\"Sini\", 1:\"Jebena\"}\n",
    "            # Draw bounding boxes and labels of detections\n",
    "            draw = ImageDraw.Draw(image)\n",
    "\n",
    "            for box_info in results[0].boxes:\n",
    "                \n",
    "                x_min, y_min, x_max, y_max = box_info.xyxy.squeeze().tolist()  \n",
    "                class_id = int(box_info.cls.item())  \n",
    "                confidence = float(box_info.conf.item()) \n",
    "               \n",
    "                box_color = 'red' if classes[class_id] == 'Jebena' else 'green'\n",
    "                label = f'{classes[class_id]}'\n",
    "\n",
    "               \n",
    "                draw.rectangle([(x_min, y_min), (x_max, y_max)], outline=box_color, width = 6)\n",
    "                # font =  ImageFont.truetype(\"arial.ttf\", 15)\n",
    "                draw.text((x_min, y_min), label, fill=box_color, )\n",
    "\n",
    "            \n",
    "            # image.show()  \n",
    "            image.save(os.path.join(\"/home/geleta/Desktop/PAI_ASSIGNMENT/pai_project/assets\", filename))\n",
    "            \n",
    "            # time.sleep(5)\n",
    "            return jsonify({'names': names_list, 'image_path': filename})\n",
    "\n",
    "    return '''\n",
    "    <!doctype html>\n",
    "    <title>Upload new File</title>\n",
    "    <h1>Upload new File</h1>\n",
    "    <form method=post enctype=multipart/form-data>\n",
    "      <input type=file name=file>\n",
    "      <input type=submit value=Upload>\n",
    "    </form>\n",
    "    '''\n",
    "\n",
    "@app.route('/get_image/<filename>', methods=['GET'])\n",
    "def get_image(filename):\n",
    "    return send_from_directory('/home/geleta/Desktop/PAI_ASSIGNMENT/pai_project/assets', filename)\n",
    "\n",
    "\n",
    "\n",
    "\n",
    "if __name__ == '__main__':\n",
    "    app.run(host='0.0.0.0', port=5000)"
   ]
  }
 ],
 "metadata": {
  "kernelspec": {
   "display_name": "Python 3",
   "language": "python",
   "name": "python3"
  },
  "language_info": {
   "codemirror_mode": {
    "name": "ipython",
    "version": 3
   },
   "file_extension": ".py",
   "mimetype": "text/x-python",
   "name": "python",
   "nbconvert_exporter": "python",
   "pygments_lexer": "ipython3",
   "version": "3.10.12"
  }
 },
 "nbformat": 4,
 "nbformat_minor": 2
}
